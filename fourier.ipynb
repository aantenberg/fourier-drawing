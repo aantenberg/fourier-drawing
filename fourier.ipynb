{
 "cells": [
  {
   "cell_type": "markdown",
   "metadata": {},
   "source": [
    "# PHYS-2260 Final Project: Signatures with Complex Fourier Transforms\n",
    "\n",
    "### Authors: Andrew Antenberg and Ethan Lior"
   ]
  },
  {
   "cell_type": "markdown",
   "metadata": {},
   "source": [
    "### Imports"
   ]
  },
  {
   "cell_type": "code",
   "execution_count": null,
   "metadata": {
    "vscode": {
     "languageId": "powershell"
    }
   },
   "outputs": [
    {
     "ename": "",
     "evalue": "",
     "output_type": "error",
     "traceback": [
      "\u001b[1;31mFailed to start the Kernel. \n",
      "\u001b[1;31mInterrupted system call. \n",
      "\u001b[1;31mView Jupyter <a href='command:jupyter.viewOutput'>log</a> for further details."
     ]
    }
   ],
   "source": [
    "!pip install pygame\n",
    "!pip install pygame_widgets\n",
    "!pip install svgpathtools"
   ]
  },
  {
   "cell_type": "code",
   "execution_count": null,
   "metadata": {},
   "outputs": [
    {
     "ename": "",
     "evalue": "",
     "output_type": "error",
     "traceback": [
      "\u001b[1;31mFailed to start the Kernel. \n",
      "\u001b[1;31mInterrupted system call. \n",
      "\u001b[1;31mView Jupyter <a href='command:jupyter.viewOutput'>log</a> for further details."
     ]
    }
   ],
   "source": [
    "import pygame\n",
    "import pygame_widgets\n",
    "from pygame_widgets.slider import Slider\n",
    "from pygame_widgets.textbox import TextBox\n",
    "from svgpathtools import svg2paths\n",
    "from numpy import cos, sin, pi, sqrt, arctan2\n",
    "import pygame.draw as draw\n",
    "from pygame import gfxdraw\n",
    "import numpy as np\n",
    "from random import random\n",
    "import pygame.locals\n",
    "from functools import reduce"
   ]
  },
  {
   "cell_type": "markdown",
   "metadata": {},
   "source": [
    "### Applying the Fourier Transform"
   ]
  },
  {
   "cell_type": "code",
   "execution_count": null,
   "metadata": {},
   "outputs": [
    {
     "ename": "",
     "evalue": "",
     "output_type": "error",
     "traceback": [
      "\u001b[1;31mFailed to start the Kernel. \n",
      "\u001b[1;31mInterrupted system call. \n",
      "\u001b[1;31mView Jupyter <a href='command:jupyter.viewOutput'>log</a> for further details."
     ]
    }
   ],
   "source": [
    "def fourier_term(signals, k):\n",
    "  N = len(signals)\n",
    "  X_k = complex()\n",
    "  for n in range(N):\n",
    "    theta = 2 * pi * k * n / N\n",
    "    X_k += complex(cos(theta), -sin(theta)) * signals[n]\n",
    "  return X_k / N\n",
    "\n",
    "def fourier_transform(signals):  \n",
    "  return [fourier_term(signals, k) for k in range(len(signals))]"
   ]
  },
  {
   "cell_type": "code",
   "execution_count": null,
   "metadata": {},
   "outputs": [
    {
     "ename": "",
     "evalue": "",
     "output_type": "error",
     "traceback": [
      "\u001b[1;31mFailed to start the Kernel. \n",
      "\u001b[1;31mInterrupted system call. \n",
      "\u001b[1;31mView Jupyter <a href='command:jupyter.viewOutput'>log</a> for further details."
     ]
    }
   ],
   "source": [
    "class Wave:\n",
    "  def __init__(self, frequency, amplitude, phase):\n",
    "    self.frequency = frequency\n",
    "    self.amplitude = amplitude\n",
    "    self.phase = phase\n",
    "  def __repr__(self):\n",
    "    return f\"Wave(freq={self.frequency}, amp={self.amplitude}, phase={self.phase})\"\n",
    "\n",
    "  @staticmethod\n",
    "  def from_fourier_term(k, cmplx_num):\n",
    "    r = cmplx_num.real\n",
    "    i = cmplx_num.imag\n",
    "    return Wave(k, sqrt(r * r + i * i), arctan2(i, r))\n",
    "\n",
    "def generate_wave_info(signals):\n",
    "  fourier_terms = fourier_transform(signals)\n",
    "  return [Wave.from_fourier_term(k, term) for k, term in enumerate(fourier_terms)]\n",
    "\n",
    "def generate_waves(points_x, points_y):\n",
    "  print('Generating fourier waves from vertices.')\n",
    "  x_waves = sorted(generate_wave_info(points_x), key=lambda x: -x.amplitude)\n",
    "  y_waves = sorted(generate_wave_info(points_y), key=lambda x: -x.amplitude)\n",
    "  print('Waves generated!')\n",
    "  return x_waves, y_waves"
   ]
  },
  {
   "cell_type": "markdown",
   "metadata": {},
   "source": [
    "### Importing data for each letter and formatting into dictionary"
   ]
  },
  {
   "cell_type": "code",
   "execution_count": null,
   "metadata": {},
   "outputs": [
    {
     "ename": "",
     "evalue": "",
     "output_type": "error",
     "traceback": [
      "\u001b[1;31mFailed to start the Kernel. \n",
      "\u001b[1;31mInterrupted system call. \n",
      "\u001b[1;31mView Jupyter <a href='command:jupyter.viewOutput'>log</a> for further details."
     ]
    }
   ],
   "source": [
    "def read_file(filename):\n",
    "  file = open(filename, \"r\")\n",
    "  return [[float(num) for num in line.split(\", \")] for line in file]"
   ]
  },
  {
   "cell_type": "markdown",
   "metadata": {},
   "source": [
    "Function to extract data from svg file and format into x and y position arrays"
   ]
  },
  {
   "cell_type": "code",
   "execution_count": null,
   "metadata": {},
   "outputs": [
    {
     "ename": "",
     "evalue": "",
     "output_type": "error",
     "traceback": [
      "\u001b[1;31mFailed to start the Kernel. \n",
      "\u001b[1;31mInterrupted system call. \n",
      "\u001b[1;31mView Jupyter <a href='command:jupyter.viewOutput'>log</a> for further details."
     ]
    }
   ],
   "source": [
    "def extract(paths):\n",
    "    xs = []\n",
    "    ys = []\n",
    "    for path in paths:\n",
    "        for segment in path:\n",
    "            # Extract coordinates from the segment\n",
    "            for point in segment:\n",
    "                x, y = point.real, point.imag\n",
    "                xs.append(x)\n",
    "                ys.append(y)\n",
    "    return xs,ys\n",
    "\n",
    "def get_svg_coords(filename):\n",
    "  paths, _ = svg2paths(filename)\n",
    "  return extract(paths)"
   ]
  },
  {
   "cell_type": "markdown",
   "metadata": {},
   "source": [
    "### Generating the map from letter to list of vertices"
   ]
  },
  {
   "cell_type": "code",
   "execution_count": null,
   "metadata": {},
   "outputs": [
    {
     "ename": "",
     "evalue": "",
     "output_type": "error",
     "traceback": [
      "\u001b[1;31mFailed to start the Kernel. \n",
      "\u001b[1;31mInterrupted system call. \n",
      "\u001b[1;31mView Jupyter <a href='command:jupyter.viewOutput'>log</a> for further details."
     ]
    }
   ],
   "source": [
    "alphabet = [chr(65 + i) for i in range(26)] + [chr(97 + i) for i in range(26)]\n",
    "dc = dict()\n",
    "for letter in alphabet:\n",
    "    is_uppercase = letter < 'a'\n",
    "    filepath = f\"assets/letters/{'upper' if is_uppercase else 'lower'}/{letter}.svg\"\n",
    "    xs, ys = get_svg_coords(filepath)\n",
    "    dc[letter] = (xs, ys)\n",
    "\n",
    "letter_height = reduce(lambda acc, curr: max(max(dc[curr][1]), acc), dc, 0)\n",
    "dc[' '] = [0, 30], [letter_height, letter_height]"
   ]
  },
  {
   "cell_type": "markdown",
   "metadata": {},
   "source": [
    "### Generating the vertices for an input string"
   ]
  },
  {
   "cell_type": "code",
   "execution_count": null,
   "metadata": {},
   "outputs": [
    {
     "ename": "",
     "evalue": "",
     "output_type": "error",
     "traceback": [
      "\u001b[1;31mFailed to start the Kernel. \n",
      "\u001b[1;31mInterrupted system call. \n",
      "\u001b[1;31mView Jupyter <a href='command:jupyter.viewOutput'>log</a> for further details."
     ]
    }
   ],
   "source": [
    "# Initializing array for x and y coordinates\n",
    "def generate_text_vertices(word):   \n",
    "    print(f'Generating vertices of \"{word}\"')\n",
    "    points_x = []\n",
    "    points_y = []\n",
    "    offset = 0\n",
    "    for i in word:\n",
    "        points_x.append(offset)\n",
    "        points_y.append(letter_height)\n",
    "        points_x += [x + offset for x in dc[i][0]]\n",
    "        curr_max_y = max(dc[i][1])\n",
    "        points_y += [letter_height - curr_max_y + y for y in dc[i][1]]\n",
    "        points_x.append(points_x[-1])\n",
    "        points_y.append(letter_height)\n",
    "        offset = max(points_x)\n",
    "    points_x = [point - offset / 2 for point in points_x]\n",
    "    points_y = [point - letter_height / 2 for point in points_y]\n",
    "    print('Vertices generated!')\n",
    "    return points_x, points_y\n"
   ]
  },
  {
   "cell_type": "code",
   "execution_count": null,
   "metadata": {},
   "outputs": [
    {
     "ename": "",
     "evalue": "",
     "output_type": "error",
     "traceback": [
      "\u001b[1;31mFailed to start the Kernel. \n",
      "\u001b[1;31mInterrupted system call. \n",
      "\u001b[1;31mView Jupyter <a href='command:jupyter.viewOutput'>log</a> for further details."
     ]
    }
   ],
   "source": [
    "class Point:\n",
    "  def __init__(self, x, y):\n",
    "    self.x = x\n",
    "    self.y = y\n",
    "  \n",
    "  def __add__(self, other):\n",
    "    return Point(self.x + other.x, self.y + other.y)\n",
    "  \n",
    "  def __sub__(self, other):\n",
    "    return Point(self.x - other.x, self.y - other.y)\n",
    "  \n",
    "  def __iadd__(self, other):\n",
    "    self.x += other.x\n",
    "    self.y += other.y\n",
    "    return self\n",
    "\n",
    "  def __truediv__(self, num):\n",
    "    return Point(self.x / num, self.y / num)\n",
    "  \n",
    "  def __mul__(self, num):\n",
    "    return Point(self.x * num, self.y * num)\n",
    "  \n",
    "  def __repr__(self):\n",
    "    return f\"({self.x}, {self.y})\"\n",
    "  \n",
    "  def __eq__(self, other):\n",
    "    return self.x == other.x and self.y == other.y\n",
    "  \n",
    "  def __ne__(self, other):\n",
    "    return not self.__eq__(other)\n",
    "  \n",
    "  def __hash__(self):\n",
    "    return hash((self.x, self.y))\n",
    "  \n",
    "  def as_tuple(self):\n",
    "    return (self.x, self.y)\n",
    "  \n",
    "  def as_ints(self):\n",
    "    return (int(self.x), int(self.y))\n",
    "  \n",
    "  def on_grid(self, grid):\n",
    "    col, row = self.as_ints()\n",
    "    return grid[row][col]\n",
    "  \n",
    "  def set_grid_value(self, grid, value):\n",
    "    col, row = self.as_ints()\n",
    "    grid[row][col] = value"
   ]
  },
  {
   "cell_type": "markdown",
   "metadata": {},
   "source": [
    "### Visualizing a fourier transform"
   ]
  },
  {
   "cell_type": "code",
   "execution_count": null,
   "metadata": {},
   "outputs": [
    {
     "ename": "",
     "evalue": "",
     "output_type": "error",
     "traceback": [
      "\u001b[1;31mFailed to start the Kernel. \n",
      "\u001b[1;31mInterrupted system call. \n",
      "\u001b[1;31mView Jupyter <a href='command:jupyter.viewOutput'>log</a> for further details."
     ]
    }
   ],
   "source": [
    "def generate_and_display_fourier_transform(x_coords, y_coords, grid=None):\n",
    "    xwaves, ywaves = generate_waves(x_coords, y_coords)\n",
    "    display_fourier_transform(xwaves, ywaves, grid)\n",
    "\n",
    "def display_fourier_transform(x_waves, y_waves, grid=None):\n",
    "    pygame.init()\n",
    "\n",
    "    background_color = (255, 255, 255)\n",
    "    circle_color = (100, 100, 100)\n",
    "    radius_color = (200, 200, 200)\n",
    "    pointer_line_color = (255, 100, 100)\n",
    "\n",
    "    old_line_color = (100, 100, 100)\n",
    "    drawing_color = (0, 0, 50)\n",
    "    widget_color = (0, 122, 255)\n",
    "\n",
    "    screensize = Point(1280, 720)\n",
    "    screencenter = screensize / 2\n",
    "    screen = pygame.display.set_mode(screensize.as_tuple())\n",
    "    clock = pygame.time.Clock()\n",
    "    running = True\n",
    "    time = 0\n",
    "    points = []\n",
    "    oldPoints = []\n",
    "    epsilon = pi / 8\n",
    "\n",
    "    slider_x = screencenter.x - 50\n",
    "    slider = Slider(screen, slider_x, 600, 100, 10, min=1, max=5, step=1, initial=1, handleColour=widget_color)\n",
    "\n",
    "    font = pygame.font.Font(None, 24)\n",
    "    info_text = get_info_text(x_waves, y_waves)\n",
    "    line_spacing = 40\n",
    "    show_metadata = False\n",
    "\n",
    "    output = TextBox(screen, slider_x, 630, 0, 0, fontSize=12)\n",
    "    speed_label = TextBox(screen, slider_x, 642, 0, 0, fontSize=12)\n",
    "    speed_label.setText('(Higher Speed = Lower Resolution)')\n",
    "    speed_label.disable()\n",
    "    output.disable()\n",
    "\n",
    "    while running:\n",
    "        output.setText(f'Speed: {slider.getValue()}x')\n",
    "\n",
    "        events = pygame.event.get()\n",
    "        # poll for events\n",
    "        # pygame.QUIT event means the user clicked X to close your window\n",
    "        for event in events:\n",
    "            if event.type == pygame.QUIT:\n",
    "                running = False\n",
    "                pygame.quit()\n",
    "            elif event.type == pygame.locals.KEYDOWN:\n",
    "                if event.key == pygame.locals.K_SPACE:\n",
    "                    show_metadata = not show_metadata\n",
    "\n",
    "        # fill the screen with a color to wipe away anything from last frame\n",
    "        screen.fill(background_color)\n",
    "\n",
    "        \n",
    "        if grid is not None:\n",
    "            box_size = 10\n",
    "            grid_top_left = screencenter - (Point(len(grid[0]) * box_size, len(grid * box_size)) / 2)\n",
    "            draw.rect(screen, (100, 100, 100), (grid_top_left.as_tuple(), (Point(len(grid[0]), len(grid)) * box_size).as_tuple()), width=2)\n",
    "            for row_index, row in enumerate(grid):\n",
    "                for col_index, v in enumerate(row):\n",
    "                    if v == 1:\n",
    "                        draw.rect(screen, (0, 0, 0), ((grid_top_left + Point(col_index * box_size, row_index * box_size)).as_tuple(), (box_size, box_size)))\n",
    "\n",
    "        if show_metadata:\n",
    "            for i, line in enumerate(info_text):\n",
    "                text_surface = font.render(line, True, (0, 0, 0))\n",
    "                screen.blit(text_surface, (screensize.x - 250, 20 + i * line_spacing))\n",
    "\n",
    "        currPointX = Point(screencenter.x, 100)\n",
    "        for wave in x_waves:\n",
    "            prevPoint = currPointX\n",
    "\n",
    "            freq = wave.frequency\n",
    "            radius = wave.amplitude\n",
    "            phase = wave.phase\n",
    "\n",
    "            offsetPoint = Point(cos(freq * time + phase), sin(freq * time + phase)) * radius\n",
    "            currPointX = prevPoint + offsetPoint\n",
    "            draw.aaline(screen, radius_color, prevPoint.as_tuple(), currPointX.as_tuple(), 2)\n",
    "            radiusPoint = Point(radius, radius)\n",
    "            topLeft = prevPoint - radiusPoint\n",
    "            gfxdraw.aacircle(screen, int(prevPoint.x), int(prevPoint.y), int(radius), circle_color)\n",
    "        \n",
    "        currPointY = Point(100, screencenter.y)\n",
    "        for wave in y_waves:\n",
    "            prevPoint = currPointY\n",
    "\n",
    "            freq = wave.frequency\n",
    "            radius = wave.amplitude\n",
    "            phase = wave.phase\n",
    "\n",
    "            offsetPoint = Point(cos(freq * time + phase + (pi / 2)), sin(freq * time + phase + (pi / 2))) * radius\n",
    "            currPointY = prevPoint + offsetPoint\n",
    "            draw.aaline(screen, radius_color, prevPoint.as_tuple(), currPointY.as_tuple(), 2)\n",
    "            radiusPoint = Point(radius, radius)\n",
    "            topLeft = prevPoint - radiusPoint\n",
    "            gfxdraw.aacircle(screen, int(prevPoint.x), int(prevPoint.y), int(radius), circle_color)\n",
    "\n",
    "        time += slider.getValue() * (2 * pi / len(x_waves))\n",
    "            \n",
    "        finalPoint = (currPointX.x, currPointY.y)\n",
    "        draw.aaline(screen, pointer_line_color, currPointX.as_tuple(), finalPoint)\n",
    "        draw.aaline(screen, pointer_line_color, currPointY.as_tuple(), finalPoint)\n",
    "\n",
    "        \n",
    "        points.append((currPointX.x, currPointY.y))\n",
    "        if (time >= 2 * pi - epsilon):\n",
    "            oldPoints.append(points[0])\n",
    "            points = points[1:]\n",
    "        if len(oldPoints) >= 250:\n",
    "            oldPoints = oldPoints[1:]\n",
    "\n",
    "        if len(oldPoints) > 1:\n",
    "            draw.aalines(screen, old_line_color, False, oldPoints)\n",
    "        if len(points) > 1:\n",
    "            draw.aalines(screen, drawing_color, False, points)\n",
    "        \n",
    "        draw.circle(screen, widget_color, (currPointX.x, currPointY.y), 5)\n",
    "\n",
    "        \n",
    "        pygame_widgets.update(events)\n",
    "        pygame.display.flip()\n",
    "\n",
    "        clock.tick(60)  # limits FPS to 60\n",
    "\n",
    "    pygame.quit()\n",
    "\n",
    "def get_info_text(xwaves, ywaves):\n",
    "    num_waves = len(xwaves)\n",
    "    return f\"\"\"General info:\n",
    "        {num_waves} Vertices\n",
    "        {num_waves} Waves\n",
    "X-Values:\n",
    "        Max Radius: {max(xwaves, key=lambda x: x.amplitude).amplitude:.2f}\n",
    "        Min Radius: {min(xwaves, key=lambda x: x.amplitude).amplitude:.2e}\n",
    "        Max Frequency: {max(xwaves, key=lambda x: x.frequency).frequency}\n",
    "        Min Frequency: {min(xwaves, key=lambda x: x.frequency).frequency}\n",
    "Y-Values:\n",
    "        Max Radius: {max(ywaves, key=lambda x: x.amplitude).amplitude:.2f}\n",
    "        Min Radius: {min(ywaves, key=lambda x: x.amplitude).amplitude:.2e}\n",
    "        Max Frequency: {max(ywaves, key=lambda x: x.frequency).frequency}\n",
    "        Min Frequency: {min(ywaves, key=lambda x: x.frequency).frequency}\"\"\".split('\\n')"
   ]
  },
  {
   "cell_type": "markdown",
   "metadata": {},
   "source": [
    "## Brownian Motion"
   ]
  },
  {
   "cell_type": "code",
   "execution_count": null,
   "metadata": {},
   "outputs": [
    {
     "ename": "",
     "evalue": "",
     "output_type": "error",
     "traceback": [
      "\u001b[1;31mFailed to start the Kernel. \n",
      "\u001b[1;31mInterrupted system call. \n",
      "\u001b[1;31mView Jupyter <a href='command:jupyter.viewOutput'>log</a> for further details."
     ]
    }
   ],
   "source": [
    "GRID_ROWS = 10\n",
    "GRID_COLS = 10\n",
    "\n",
    "INIT_ROW = 0\n",
    "INIT_COL = 0\n",
    "\n",
    "\n",
    "def generate_maze(grid_rows=GRID_ROWS, grid_cols=GRID_COLS, init_row=INIT_ROW, init_col=INIT_COL):\n",
    "  print('Generating maze.')\n",
    "  grid = [[0 if i % 2 == 0 and j % 2 == 0 else 1 for i in range(grid_rows * 2 - 1)] for j in range(grid_cols * 2 - 1)]\n",
    "  visited = [[False for _ in row] for row in grid]\n",
    "  stack = [Point(init_col, init_row) * 2]\n",
    "\n",
    "  while len(stack) != 0:\n",
    "    p = stack.pop()\n",
    "    row = int(p.y)\n",
    "    col = int(p.x)\n",
    "    visited[row][col] = True\n",
    "    unvisited_neighbors = get_unvisited_neighbors(row, col, visited)\n",
    "    if len(unvisited_neighbors) != 0:\n",
    "      stack.append(p)\n",
    "      random_neighbor_index = int(random() * len(unvisited_neighbors))\n",
    "      random_neighbor = unvisited_neighbors[random_neighbor_index]\n",
    "      random_neighbor.set_grid_value(visited, 0)\n",
    "      in_between = (p + random_neighbor) / 2\n",
    "      in_between.set_grid_value(grid, 0)\n",
    "      stack.append(random_neighbor)\n",
    "  print('Maze generated!')\n",
    "  return grid\n",
    "\n",
    "def get_unvisited_neighbors(row, col, visited):\n",
    "  return get_unvisited_neighbor_points(Point(col, row), visited)\n",
    "\n",
    "def get_unvisited_neighbor_points(point, visited):\n",
    "  num_rows = len(visited)\n",
    "  num_cols = len(visited[0])\n",
    "  offsets = [Point(-2, 0), Point(2, 0), Point(0, -2), Point(0, 2)]\n",
    "  result = []\n",
    "  for offset in offsets:\n",
    "      new_p = point + offset\n",
    "      if (0 <= new_p.y < num_rows) and (0 <= new_p.x < num_cols) and not new_p.on_grid(visited):\n",
    "        result.append(new_p)\n",
    "  return result"
   ]
  },
  {
   "cell_type": "code",
   "execution_count": null,
   "metadata": {},
   "outputs": [
    {
     "ename": "",
     "evalue": "",
     "output_type": "error",
     "traceback": [
      "\u001b[1;31mFailed to start the Kernel. \n",
      "\u001b[1;31mInterrupted system call. \n",
      "\u001b[1;31mView Jupyter <a href='command:jupyter.viewOutput'>log</a> for further details."
     ]
    }
   ],
   "source": [
    "def random_offset():\n",
    "  rand = random()\n",
    "  if rand < 0.25:\n",
    "    return Point(2, 0)\n",
    "  elif rand < 0.5:\n",
    "    return Point(-2, 0)\n",
    "  elif rand < 0.75:\n",
    "    return Point(0, 2)\n",
    "  else:\n",
    "    return Point(0, -2)\n",
    "  \n",
    "def solve_maze_brownian(maze, num_movers=10):\n",
    "  movers = [Point(INIT_COL, INIT_ROW) for _ in range(num_movers)]\n",
    "  paths = [[] for _ in range(num_movers)]\n",
    "  end_pos = Point(len(maze) - 1, len(maze[0]) - 1)\n",
    "  for mover_index, mover in enumerate(movers):\n",
    "    while mover != end_pos:\n",
    "      if mover == Point(0, 0):\n",
    "        paths[mover_index] = []\n",
    "      offset = random_offset()\n",
    "      new_pos = mover + offset\n",
    "      avg_pos = (new_pos + mover) / 2\n",
    "      if 0 <= new_pos.x < len(maze[0]) and 0 <= new_pos.y < len(maze) and avg_pos.on_grid(maze) == 0:\n",
    "        mover = new_pos\n",
    "        paths[mover_index].append(avg_pos)\n",
    "        paths[mover_index].append(new_pos)\n",
    "\n",
    "  min_path = paths[0]\n",
    "  for path in paths:\n",
    "    if len(path) < len(min_path):\n",
    "      min_path = path\n",
    "  return min_path\n",
    "\n",
    "def solve_maze_bfs(maze):\n",
    "  print('Solving maze')\n",
    "  visited = [[False for _ in row] for row in maze]\n",
    "  init = Point(0, 0)\n",
    "  parent = { init: None }\n",
    "  queue = [Point(0, 0)]\n",
    "  while len(queue) != 0:\n",
    "    curr = queue.pop(0)\n",
    "    curr.set_grid_value(visited, True)\n",
    "    for new_point in get_unvisited_neighbor_points(curr, visited):\n",
    "      avg_pos = (curr + new_point) / 2\n",
    "      if 0 <= new_point.x < len(maze[0]) and 0 <= new_point.y < len(maze) and not new_point.on_grid(visited) and avg_pos.on_grid(maze) == 0:\n",
    "        queue.append(new_point)\n",
    "        parent[new_point] = curr\n",
    "  print('Finished exploring. Building path.')\n",
    "  path = []\n",
    "  pt = Point(len(maze[0]) - 1, len(maze) - 1)\n",
    "  while pt is not None:\n",
    "    path.append(pt)\n",
    "    pt = parent[pt]\n",
    "  print('Path built!')\n",
    "  return path[::-1]\n",
    "\n",
    "\n",
    "\n",
    "def extract_coords(path):\n",
    "  return [pos.x for pos in path], [pos.y for pos in path]"
   ]
  },
  {
   "cell_type": "code",
   "execution_count": null,
   "metadata": {},
   "outputs": [
    {
     "ename": "",
     "evalue": "",
     "output_type": "error",
     "traceback": [
      "\u001b[1;31mFailed to start the Kernel. \n",
      "\u001b[1;31mInterrupted system call. \n",
      "\u001b[1;31mView Jupyter <a href='command:jupyter.viewOutput'>log</a> for further details."
     ]
    }
   ],
   "source": [
    "def generate_maze_path_coords(maze, solve_maze_fn=solve_maze_brownian):\n",
    "  path = solve_maze_fn(maze)\n",
    "  xs, ys = extract_coords(path)\n",
    "  xs = [(x - (len(maze[0]) / 2)) * 10 + 5 for x in xs]\n",
    "  ys = [(y - (len(maze) / 2)) * 10 + 5 for y in ys]\n",
    "\n",
    "  confetti_xs, confetti_ys = get_svg_coords('assets/confetti.svg')\n",
    "  confetti_xs.append(confetti_xs[0])\n",
    "  confetti_ys.append(confetti_ys[0])\n",
    "\n",
    "  xs += [x + len(maze[0]) * 10 + 10 for x in confetti_xs] + [(x - (len(maze[0]) / 2)) * 10 + 5 for x in [len(maze[0]), -1, -1]]\n",
    "  ys += confetti_ys + [(y - (len(maze) / 2)) * 10 + 5 for y in [len(maze), len(maze), -1]]\n",
    "  return xs, ys"
   ]
  },
  {
   "cell_type": "code",
   "execution_count": null,
   "metadata": {},
   "outputs": [
    {
     "ename": "",
     "evalue": "",
     "output_type": "error",
     "traceback": [
      "\u001b[1;31mFailed to start the Kernel. \n",
      "\u001b[1;31mInterrupted system call. \n",
      "\u001b[1;31mView Jupyter <a href='command:jupyter.viewOutput'>log</a> for further details."
     ]
    }
   ],
   "source": [
    "def start_text_interaction():\n",
    "  text = input('What would you like to be written?\\n') #Taking in user input\n",
    "  points_x, points_y = generate_text_vertices(text)\n",
    "  generate_and_display_fourier_transform(points_x, points_y)\n",
    "\n",
    "def start_maze_solver_interaction():\n",
    "  default_dim = 10\n",
    "  maze_dim = input(f'What size maze would you like to generate? (Recommended: {default_dim})')\n",
    "  parsed_maze_dim = 10\n",
    "  try:\n",
    "    parsed_maze_dim = int(maze_dim)\n",
    "  except ValueError:\n",
    "    print(f'\"{maze_dim}\" is not a number. Using {default_dim} instead')\n",
    "  maze = generate_maze(parsed_maze_dim, parsed_maze_dim)\n",
    "  solver_type = input(f'What algorithm would you like to use to solve the maze? 1. Brownian Motion\\n2. BFS  (Default: brownian)')\n",
    "  solver_fn = solve_maze_bfs if len(solver_type) > 0 and solver_type[0] == '2' else solve_maze_brownian\n",
    "  points_x, points_y = generate_maze_path_coords(maze, solve_maze_fn=solver_fn)\n",
    "  generate_and_display_fourier_transform(points_x, points_y, maze)\n",
    "\n",
    "def start_svg_interaction():\n",
    "  svg_path = input('Please type the filepath of your svg')\n",
    "  try:\n",
    "    svg_xs, svg_ys = get_svg_coords(svg_path)\n",
    "    generate_and_display_fourier_transform(svg_xs, svg_ys)\n",
    "  except FileNotFoundError:\n",
    "    print(f'Invalid file path: \"{svg_path}\". Please try again!')"
   ]
  },
  {
   "cell_type": "markdown",
   "metadata": {},
   "source": [
    "## Play Around!"
   ]
  },
  {
   "cell_type": "code",
   "execution_count": null,
   "metadata": {},
   "outputs": [
    {
     "ename": "",
     "evalue": "",
     "output_type": "error",
     "traceback": [
      "\u001b[1;31mFailed to start the Kernel. \n",
      "\u001b[1;31mInterrupted system call. \n",
      "\u001b[1;31mView Jupyter <a href='command:jupyter.viewOutput'>log</a> for further details."
     ]
    }
   ],
   "source": [
    "interaction_type = input('What would you like to visualize?\\n1. Text\\n2. Maze Solver\\n3. SVG File')\n",
    "match interaction_type[0]:\n",
    "  case '1':\n",
    "    start_text_interaction()\n",
    "  case '2':\n",
    "    start_maze_solver_interaction()\n",
    "  case '3':\n",
    "    start_svg_interaction()"
   ]
  }
 ],
 "metadata": {
  "kernelspec": {
   "display_name": "Python 3",
   "language": "python",
   "name": "python3"
  },
  "language_info": {
   "codemirror_mode": {
    "name": "ipython",
    "version": 3
   },
   "file_extension": ".py",
   "mimetype": "text/x-python",
   "name": "python",
   "nbconvert_exporter": "python",
   "pygments_lexer": "ipython3",
   "version": "3.10.1"
  }
 },
 "nbformat": 4,
 "nbformat_minor": 2
}

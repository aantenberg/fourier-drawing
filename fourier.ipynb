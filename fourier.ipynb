{
 "cells": [
  {
   "cell_type": "markdown",
   "metadata": {},
   "source": [
    "# PHYS-2260 Final Project: Signatures with Complex Fourier Transforms\n",
    "\n",
    "### Authors: Andrew Antenberg and Ethan Lior"
   ]
  },
  {
   "cell_type": "code",
   "execution_count": 1,
   "metadata": {
    "vscode": {
     "languageId": "powershell"
    }
   },
   "outputs": [
    {
     "name": "stdout",
     "output_type": "stream",
     "text": [
      "Requirement already satisfied: pygame in /Users/andrewantenberg/anaconda3/lib/python3.11/site-packages (2.5.2)\n",
      "Requirement already satisfied: pygame_widgets in /Users/andrewantenberg/anaconda3/lib/python3.11/site-packages (1.1.5)\n",
      "Requirement already satisfied: pygame>=2.0.0 in /Users/andrewantenberg/anaconda3/lib/python3.11/site-packages (from pygame_widgets) (2.5.2)\n",
      "Requirement already satisfied: svgpathtools in /Users/andrewantenberg/anaconda3/lib/python3.11/site-packages (1.6.1)\n",
      "Requirement already satisfied: numpy in /Users/andrewantenberg/anaconda3/lib/python3.11/site-packages (from svgpathtools) (1.24.3)\n",
      "Requirement already satisfied: svgwrite in /Users/andrewantenberg/anaconda3/lib/python3.11/site-packages (from svgpathtools) (1.4.3)\n",
      "Requirement already satisfied: scipy in /Users/andrewantenberg/anaconda3/lib/python3.11/site-packages (from svgpathtools) (1.11.1)\n"
     ]
    }
   ],
   "source": [
    "!pip install pygame\n",
    "!pip install pygame_widgets\n",
    "!pip install svgpathtools"
   ]
  },
  {
   "cell_type": "markdown",
   "metadata": {},
   "source": [
    "### Imports"
   ]
  },
  {
   "cell_type": "code",
   "execution_count": 2,
   "metadata": {},
   "outputs": [
    {
     "name": "stdout",
     "output_type": "stream",
     "text": [
      "pygame 2.5.2 (SDL 2.28.3, Python 3.10.1)\n",
      "Hello from the pygame community. https://www.pygame.org/contribute.html\n"
     ]
    }
   ],
   "source": [
    "import pygame\n",
    "import pygame_widgets\n",
    "from pygame_widgets.slider import Slider\n",
    "from pygame_widgets.textbox import TextBox\n",
    "from svgpathtools import svg2paths\n",
    "from numpy import cos, sin, pi, sqrt, arctan2\n",
    "import pygame.draw as draw\n",
    "from pygame import gfxdraw\n",
    "import numpy as np\n",
    "from random import random\n",
    "import matplotlib.pyplot as plt"
   ]
  },
  {
   "cell_type": "markdown",
   "metadata": {},
   "source": [
    "### Applying the Fourier Transform"
   ]
  },
  {
   "cell_type": "code",
   "execution_count": 3,
   "metadata": {},
   "outputs": [],
   "source": [
    "def fourier_term(signals, k):\n",
    "  N = len(signals)\n",
    "  X_k = complex()\n",
    "  for n in range(N):\n",
    "    theta = 2 * pi * k * n / N\n",
    "    X_k += complex(cos(theta), -sin(theta)) * signals[n]\n",
    "  return X_k / N\n",
    "\n",
    "def fourier_transform(signals):  \n",
    "  return [fourier_term(signals, k) for k in range(len(signals))]"
   ]
  },
  {
   "cell_type": "code",
   "execution_count": 4,
   "metadata": {},
   "outputs": [],
   "source": [
    "class Wave:\n",
    "  def __init__(self, frequency, amplitude, phase):\n",
    "    self.frequency = frequency\n",
    "    self.amplitude = amplitude\n",
    "    self.phase = phase\n",
    "  def __repr__(self):\n",
    "    return f\"Wave(freq={self.frequency}, amp={self.amplitude}, phase={self.phase})\"\n",
    "\n",
    "  @staticmethod\n",
    "  def from_fourier_term(k, cmplx_num):\n",
    "    r = cmplx_num.real\n",
    "    i = cmplx_num.imag\n",
    "    return Wave(k, sqrt(r * r + i * i), arctan2(i, r))\n",
    "\n",
    "def generate_wave_info(signals):\n",
    "  fourier_terms = fourier_transform(signals)\n",
    "  return [Wave.from_fourier_term(k, term) for k, term in enumerate(fourier_terms)]"
   ]
  },
  {
   "cell_type": "code",
   "execution_count": 5,
   "metadata": {},
   "outputs": [],
   "source": [
    "def read_file(filename):\n",
    "  file = open(filename, \"r\")\n",
    "  return [[float(num) for num in line.split(\", \")] for line in file]"
   ]
  },
  {
   "cell_type": "code",
   "execution_count": 6,
   "metadata": {},
   "outputs": [],
   "source": [
    "drawing = read_file('assets/capitalE.txt')\n",
    "xs = [point[0] * 2 for point in drawing]\n",
    "ys = [point[1] * 2 for point in drawing]"
   ]
  },
  {
   "cell_type": "code",
   "execution_count": 7,
   "metadata": {},
   "outputs": [],
   "source": [
    "# Load SVG file\n",
    "paths, attributes = svg2paths('assets/R.svg')\n",
    "xsR = []\n",
    "ysR = []\n",
    "\n",
    "# Extracting coordinates from paths\n",
    "for path in paths:\n",
    "    for segment in path:\n",
    "        # Extract coordinates from the segment\n",
    "        for point in segment:\n",
    "            x, y = point.real, point.imag\n",
    "            xsR.append(x)\n",
    "            ysR.append(y)"
   ]
  },
  {
   "cell_type": "code",
   "execution_count": 8,
   "metadata": {},
   "outputs": [],
   "source": [
    "paths, attributes = svg2paths('assets/A.svg')\n",
    "xsA = []\n",
    "ysA = []\n",
    "\n",
    "# Extracting coordinates from paths\n",
    "for path in paths:\n",
    "    for segment in path:\n",
    "        # Extract coordinates from the segment\n",
    "        for point in segment:\n",
    "            x, y = point.real, point.imag\n",
    "            xsA.append(x)\n",
    "            ysA.append(y)"
   ]
  },
  {
   "cell_type": "markdown",
   "metadata": {},
   "source": [
    "### Importing data for each letter and formatting into dictionary"
   ]
  },
  {
   "cell_type": "markdown",
   "metadata": {},
   "source": [
    "Function to extract data from svg file and format into x and y position arrays"
   ]
  },
  {
   "cell_type": "code",
   "execution_count": 9,
   "metadata": {},
   "outputs": [],
   "source": [
    "def extract(paths):\n",
    "    xs = []\n",
    "    ys = []\n",
    "    for path in paths:\n",
    "        for segment in path:\n",
    "            # Extract coordinates from the segment\n",
    "            for point in segment:\n",
    "                x, y = point.real, point.imag\n",
    "                xs.append(x)\n",
    "                ys.append(y)\n",
    "    return xs,ys"
   ]
  },
  {
   "cell_type": "code",
   "execution_count": 10,
   "metadata": {},
   "outputs": [],
   "source": [
    "max_y = 0\n",
    "dc = dict() # Initializing dictionary for each letter\n",
    "for i in range(26):\n",
    "    lowercase_letter = chr(97+i) \n",
    "    uppercase_letter = chr(65+i)\n",
    "    lower_route = f\"assets/letters/lower/{lowercase_letter}.svg\"\n",
    "    paths,attributes = svg2paths(lower_route)\n",
    "    xs, ys = extract(paths)\n",
    "    max_y = max(max_y, max(ys))\n",
    "    dc[lowercase_letter] = (xs, ys)\n",
    "    upper_route = f\"assets/letters/upper/{uppercase_letter}.svg\"\n",
    "    paths,attributes = svg2paths(upper_route)\n",
    "    xs, ys = extract(paths)\n",
    "    max_y = max(max_y, max(ys))\n",
    "    dc[uppercase_letter] = (xs, ys)\n",
    "\n",
    "dc[' '] = [0, 30], [max_y, max_y]\n",
    "letter_height = max_y"
   ]
  },
  {
   "cell_type": "markdown",
   "metadata": {},
   "source": [
    "### Reading in user input"
   ]
  },
  {
   "cell_type": "code",
   "execution_count": 11,
   "metadata": {},
   "outputs": [],
   "source": [
    "\n",
    "text = input('What would you like to be written?\\n') #Taking in user input\n",
    "\n",
    "# Initializing array for x and y coordinates\n",
    "points_x = []\n",
    "points_y = []\n",
    "\n",
    "offset = 0\n",
    "for i in text:\n",
    "    points_x.append(offset)\n",
    "    points_y.append(letter_height)\n",
    "    points_x += [x + offset for x in dc[i][0]]\n",
    "    curr_max_y = max(dc[i][1])\n",
    "    points_y += [letter_height - curr_max_y + y for y in dc[i][1]]\n",
    "    points_x.append(points_x[-1])\n",
    "    points_y.append(letter_height)\n",
    "    offset = max(points_x)\n",
    "\n",
    "points_x = [point - offset / 2 for point in points_x]\n",
    "points_y = [point - letter_height / 2 for point in points_y]\n",
    "x_waves = sorted(generate_wave_info(points_x), key=lambda x: -x.amplitude)\n",
    "y_waves = sorted(generate_wave_info(points_y), key=lambda x: -x.amplitude)"
   ]
  },
  {
   "cell_type": "code",
   "execution_count": 12,
   "metadata": {},
   "outputs": [],
   "source": [
    "class Point:\n",
    "  def __init__(self, x, y):\n",
    "    self.x = x\n",
    "    self.y = y\n",
    "  \n",
    "  def __add__(self, other):\n",
    "    return Point(self.x + other.x, self.y + other.y)\n",
    "  \n",
    "  def __sub__(self, other):\n",
    "    return Point(self.x - other.x, self.y - other.y)\n",
    "  \n",
    "  def __iadd__(self, other):\n",
    "    self.x += other.x\n",
    "    self.y += other.y\n",
    "    return self\n",
    "\n",
    "  def __truediv__(self, num):\n",
    "    return Point(self.x / num, self.y / num)\n",
    "  \n",
    "  def __mul__(self, num):\n",
    "    return Point(self.x * num, self.y * num)\n",
    "  \n",
    "  def __repr__(self):\n",
    "    return f\"({self.x}, {self.y})\"\n",
    "  \n",
    "  def __eq__(self, other):\n",
    "    return self.x == other.x and self.y == other.y\n",
    "  \n",
    "  def __neq__(self, other):\n",
    "    return not self.__eq__(other)\n",
    "  \n",
    "  def as_tuple(self):\n",
    "    return (self.x, self.y)\n",
    "  \n",
    "  def as_ints(self):\n",
    "    return (int(self.x), int(self.y))\n",
    "  \n",
    "  def on_grid(self, grid):\n",
    "    col, row = self.as_ints()\n",
    "    return grid[row][col]\n",
    "  \n",
    "  def set_grid_value(self, grid, value):\n",
    "    col, row = self.as_ints()\n",
    "    grid[row][col] = value"
   ]
  },
  {
   "cell_type": "code",
   "execution_count": 13,
   "metadata": {},
   "outputs": [
    {
     "ename": "KeyboardInterrupt",
     "evalue": "",
     "output_type": "error",
     "traceback": [
      "\u001b[0;31m---------------------------------------------------------------------------\u001b[0m",
      "\u001b[0;31mKeyboardInterrupt\u001b[0m                         Traceback (most recent call last)",
      "Cell \u001b[0;32mIn[13], line 69\u001b[0m\n\u001b[1;32m     66\u001b[0m radius \u001b[38;5;241m=\u001b[39m wave\u001b[38;5;241m.\u001b[39mamplitude\n\u001b[1;32m     67\u001b[0m phase \u001b[38;5;241m=\u001b[39m wave\u001b[38;5;241m.\u001b[39mphase\n\u001b[0;32m---> 69\u001b[0m offsetPoint \u001b[38;5;241m=\u001b[39m Point(\u001b[43mcos\u001b[49m\u001b[43m(\u001b[49m\u001b[43mfreq\u001b[49m\u001b[43m \u001b[49m\u001b[38;5;241;43m*\u001b[39;49m\u001b[43m \u001b[49m\u001b[43mtime\u001b[49m\u001b[43m \u001b[49m\u001b[38;5;241;43m+\u001b[39;49m\u001b[43m \u001b[49m\u001b[43mphase\u001b[49m\u001b[43m \u001b[49m\u001b[38;5;241;43m+\u001b[39;49m\u001b[43m \u001b[49m\u001b[43m(\u001b[49m\u001b[43mpi\u001b[49m\u001b[43m \u001b[49m\u001b[38;5;241;43m/\u001b[39;49m\u001b[43m \u001b[49m\u001b[38;5;241;43m2\u001b[39;49m\u001b[43m)\u001b[49m\u001b[43m)\u001b[49m, sin(freq \u001b[38;5;241m*\u001b[39m time \u001b[38;5;241m+\u001b[39m phase \u001b[38;5;241m+\u001b[39m (pi \u001b[38;5;241m/\u001b[39m \u001b[38;5;241m2\u001b[39m))) \u001b[38;5;241m*\u001b[39m radius\n\u001b[1;32m     70\u001b[0m currPointY \u001b[38;5;241m=\u001b[39m prevPoint \u001b[38;5;241m+\u001b[39m offsetPoint\n\u001b[1;32m     71\u001b[0m draw\u001b[38;5;241m.\u001b[39maaline(screen, radius_color, prevPoint\u001b[38;5;241m.\u001b[39mas_tuple(), currPointY\u001b[38;5;241m.\u001b[39mas_tuple(), \u001b[38;5;241m2\u001b[39m)\n",
      "\u001b[0;31mKeyboardInterrupt\u001b[0m: "
     ]
    }
   ],
   "source": [
    "# pygame setup\n",
    "pygame.init()\n",
    "\n",
    "background_color = (255, 255, 255)\n",
    "circle_color = (100, 100, 100)\n",
    "radius_color = (200, 200, 200)\n",
    "pointer_line_color = (255, 100, 100)\n",
    "\n",
    "old_line_color = (100, 100, 100)\n",
    "drawing_color = (0, 0, 50)\n",
    "widget_color = (0, 122, 255)\n",
    "\n",
    "screensize = Point(1280, 720)\n",
    "screencenter = screensize / 2\n",
    "screen = pygame.display.set_mode(screensize.as_tuple())\n",
    "clock = pygame.time.Clock()\n",
    "running = True\n",
    "time = 0\n",
    "points = []\n",
    "oldPoints = []\n",
    "epsilon = pi / 8\n",
    "\n",
    "slider_x = screencenter.x - 50\n",
    "\n",
    "slider = Slider(screen, slider_x, 600, 100, 10, min=1, max=5, step=1, initial=1, handleColour=widget_color)\n",
    "output = TextBox(screen, slider_x, 630, 0, 0, fontSize=12)\n",
    "speed_label = TextBox(screen, slider_x, 642, 0, 0, fontSize=12)\n",
    "speed_label.setText('(Higher Speed = Lower Resolution)')\n",
    "speed_label.disable()\n",
    "output.disable()\n",
    "\n",
    "while running:\n",
    "\n",
    "    output.setText(f'Speed: {slider.getValue()}x')\n",
    "\n",
    "    events = pygame.event.get()\n",
    "    # poll for events\n",
    "    # pygame.QUIT event means the user clicked X to close your window\n",
    "    for event in events:\n",
    "        if event.type == pygame.QUIT:\n",
    "            running = False\n",
    "            pygame.quit()\n",
    "    # fill the screen with a color to wipe away anything from last frame\n",
    "    screen.fill(background_color)\n",
    "\n",
    "    currPointX = Point(screencenter.x, 100)\n",
    "    for wave in x_waves:\n",
    "        prevPoint = currPointX\n",
    "\n",
    "        freq = wave.frequency\n",
    "        radius = wave.amplitude\n",
    "        phase = wave.phase\n",
    "\n",
    "        offsetPoint = Point(cos(freq * time + phase), sin(freq * time + phase)) * radius\n",
    "        currPointX = prevPoint + offsetPoint\n",
    "        draw.aaline(screen, radius_color, prevPoint.as_tuple(), currPointX.as_tuple(), 2)\n",
    "        radiusPoint = Point(radius, radius)\n",
    "        topLeft = prevPoint - radiusPoint\n",
    "        gfxdraw.aacircle(screen, int(prevPoint.x), int(prevPoint.y), int(radius), circle_color)\n",
    "    \n",
    "    currPointY = Point(100, screencenter.y)\n",
    "    for wave in y_waves:\n",
    "        prevPoint = currPointY\n",
    "\n",
    "        freq = wave.frequency\n",
    "        radius = wave.amplitude\n",
    "        phase = wave.phase\n",
    "\n",
    "        offsetPoint = Point(cos(freq * time + phase + (pi / 2)), sin(freq * time + phase + (pi / 2))) * radius\n",
    "        currPointY = prevPoint + offsetPoint\n",
    "        draw.aaline(screen, radius_color, prevPoint.as_tuple(), currPointY.as_tuple(), 2)\n",
    "        radiusPoint = Point(radius, radius)\n",
    "        topLeft = prevPoint - radiusPoint\n",
    "        gfxdraw.aacircle(screen, int(prevPoint.x), int(prevPoint.y), int(radius), circle_color)\n",
    "\n",
    "    time += slider.getValue() * (2 * pi / len(x_waves))\n",
    "        \n",
    "    finalPoint = (currPointX.x, currPointY.y)\n",
    "    draw.aaline(screen, pointer_line_color, currPointX.as_tuple(), finalPoint)\n",
    "    draw.aaline(screen, pointer_line_color, currPointY.as_tuple(), finalPoint)\n",
    "    \n",
    "    points.append((currPointX.x, currPointY.y))\n",
    "    if (time >= 2 * pi - epsilon):\n",
    "        oldPoints.append(points[0])\n",
    "        points = points[1:]\n",
    "    if len(oldPoints) >= 250:\n",
    "        oldPoints = oldPoints[1:]\n",
    "\n",
    "    if len(oldPoints) > 1:\n",
    "        draw.aalines(screen, old_line_color, False, oldPoints)\n",
    "    if len(points) > 1:\n",
    "        draw.aalines(screen, drawing_color, False, points)\n",
    "    \n",
    "    pygame_widgets.update(events)\n",
    "    pygame.display.flip()\n",
    "\n",
    "    clock.tick(60)  # limits FPS to 60\n",
    "\n",
    "pygame.quit()"
   ]
  },
  {
   "cell_type": "markdown",
   "metadata": {},
   "source": []
  },
  {
   "cell_type": "markdown",
   "metadata": {},
   "source": [
    "## Brownian Motion"
   ]
  },
  {
   "cell_type": "code",
   "execution_count": 15,
   "metadata": {},
   "outputs": [],
   "source": [
    "GRID_ROWS = 30\n",
    "GRID_COLS = 30\n",
    "\n",
    "INIT_ROW = GRID_ROWS // 2\n",
    "INIT_COL = 0\n",
    "\n",
    "\n",
    "def generate_maze(grid_rows=GRID_ROWS, grid_cols=GRID_COLS, init_row=INIT_ROW, init_col=INIT_COL):\n",
    "  grid = [[0 if i % 2 == 0 and j % 2 == 0 else 1 for i in range(grid_rows * 2 - 1)] for j in range(grid_cols * 2 - 1)]\n",
    "  visited = [[False for _ in row] for row in grid]\n",
    "  stack = [Point(init_col, init_row) * 2]\n",
    "\n",
    "  while len(stack) != 0:\n",
    "    p = stack.pop()\n",
    "    row = int(p.y)\n",
    "    col = int(p.x)\n",
    "    visited[row][col] = True\n",
    "    unvisited_neighbors = get_unvisited_neighbors(row, col, visited)\n",
    "    if len(unvisited_neighbors) != 0:\n",
    "      stack.append(p)\n",
    "      random_neighbor_index = int(random() * len(unvisited_neighbors))\n",
    "      random_neighbor = unvisited_neighbors[random_neighbor_index]\n",
    "      random_neighbor.set_grid_value(visited, 0)\n",
    "      in_between = (p + random_neighbor) / 2\n",
    "      in_between.set_grid_value(grid, 0)\n",
    "      stack.append(random_neighbor)\n",
    "  return grid\n",
    "\n",
    "def get_unvisited_neighbors(row, col, visited):\n",
    "  num_rows = len(visited)\n",
    "  num_cols = len(visited[row])\n",
    "  offsets = [Point(-2, 0), Point(2, 0), Point(0, -2), Point(0, 2)]\n",
    "  result = []\n",
    "  for offset in offsets:\n",
    "      new_p = Point(col, row) + offset\n",
    "      if (0 <= new_p.y < num_rows) and (0 <= new_p.x < num_cols) and not new_p.on_grid(visited):\n",
    "        result.append(new_p)\n",
    "  return result"
   ]
  },
  {
   "cell_type": "code",
   "execution_count": null,
   "metadata": {},
   "outputs": [],
   "source": [
    "maze = generate_maze()\n",
    "plt.imshow(maze, cmap=\"binary\")"
   ]
  }
 ],
 "metadata": {
  "kernelspec": {
   "display_name": "Python 3",
   "language": "python",
   "name": "python3"
  },
  "language_info": {
   "codemirror_mode": {
    "name": "ipython",
    "version": 3
   },
   "file_extension": ".py",
   "mimetype": "text/x-python",
   "name": "python",
   "nbconvert_exporter": "python",
   "pygments_lexer": "ipython3",
   "version": "3.10.1"
  }
 },
 "nbformat": 4,
 "nbformat_minor": 2
}

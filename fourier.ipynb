{
 "cells": [
  {
   "cell_type": "code",
   "execution_count": 11,
   "metadata": {
    "vscode": {
     "languageId": "powershell"
    }
   },
   "outputs": [
    {
     "name": "stdout",
     "output_type": "stream",
     "text": [
      "Requirement already satisfied: pygame in /Users/ethanlior/anaconda3/lib/python3.11/site-packages (2.5.2)\n",
      "Requirement already satisfied: svgpathtools in /Users/ethanlior/anaconda3/lib/python3.11/site-packages (1.6.1)\n",
      "Requirement already satisfied: numpy in /Users/ethanlior/anaconda3/lib/python3.11/site-packages (from svgpathtools) (1.24.3)\n",
      "Requirement already satisfied: svgwrite in /Users/ethanlior/anaconda3/lib/python3.11/site-packages (from svgpathtools) (1.4.3)\n",
      "Requirement already satisfied: scipy in /Users/ethanlior/anaconda3/lib/python3.11/site-packages (from svgpathtools) (1.11.1)\n"
     ]
    }
   ],
   "source": [
    "!pip install pygame\n",
    "!pip install svgpathtools"
   ]
  },
  {
   "cell_type": "code",
   "execution_count": 23,
   "metadata": {},
   "outputs": [],
   "source": [
    "import pygame\n",
    "from svgpathtools import svg2paths\n",
    "from numpy import cos, sin, pi, sqrt, arctan2\n",
    "import pygame.draw as draw\n",
    "import numpy as np"
   ]
  },
  {
   "cell_type": "code",
   "execution_count": 13,
   "metadata": {},
   "outputs": [],
   "source": [
    "def fourier_term(signals, k):\n",
    "  N = len(signals)\n",
    "  X_k = complex()\n",
    "  for n in range(N):\n",
    "    theta = 2 * pi * k * n / N\n",
    "    X_k += complex(cos(theta), -sin(theta)) * signals[n]\n",
    "  return X_k / N\n",
    "\n",
    "def fourier_transform(signals):  \n",
    "  return [fourier_term(signals, k) for k in range(len(signals))]"
   ]
  },
  {
   "cell_type": "code",
   "execution_count": 14,
   "metadata": {},
   "outputs": [],
   "source": [
    "class Wave:\n",
    "  def __init__(self, frequency, amplitude, phase):\n",
    "    self.frequency = frequency\n",
    "    self.amplitude = amplitude\n",
    "    self.phase = phase\n",
    "  def __repr__(self):\n",
    "    return f\"Wave(freq={self.frequency}, amp={self.amplitude}, phase={self.phase})\"\n",
    "\n",
    "  @staticmethod\n",
    "  def from_fourier_term(k, cmplx_num):\n",
    "    r = cmplx_num.real\n",
    "    i = cmplx_num.imag\n",
    "    return Wave(k, sqrt(r * r + i * i), arctan2(i, r))\n",
    "\n",
    "def generate_wave_info(signals):\n",
    "  fourier_terms = fourier_transform(signals)\n",
    "  return [Wave.from_fourier_term(k, term) for k, term in enumerate(fourier_terms)]"
   ]
  },
  {
   "cell_type": "code",
   "execution_count": 15,
   "metadata": {},
   "outputs": [],
   "source": [
    "def read_file(filename):\n",
    "  file = open(filename, \"r\")\n",
    "  return [[float(num) for num in line.split(\", \")] for line in file]"
   ]
  },
  {
   "cell_type": "code",
   "execution_count": 16,
   "metadata": {},
   "outputs": [],
   "source": [
    "drawing = read_file('assets/capitalE.txt')\n",
    "xs = [point[0] * 2 for point in drawing]\n",
    "ys = [point[1] * 2 for point in drawing]"
   ]
  },
  {
   "cell_type": "code",
   "execution_count": 17,
   "metadata": {},
   "outputs": [],
   "source": [
    "# Load SVG file\n",
    "paths, attributes = svg2paths('assets/R.svg')\n",
    "xsR = []\n",
    "ysR = []\n",
    "\n",
    "# Extracting coordinates from paths\n",
    "for path in paths:\n",
    "    for segment in path:\n",
    "        # Extract coordinates from the segment\n",
    "        for point in segment:\n",
    "            x, y = point.real, point.imag\n",
    "            xsR.append(x)\n",
    "            ysR.append(y)"
   ]
  },
  {
   "cell_type": "code",
   "execution_count": 18,
   "metadata": {},
   "outputs": [],
   "source": [
    "paths, attributes = svg2paths('assets/A.svg')\n",
    "xsA = []\n",
    "ysA = []\n",
    "\n",
    "# Extracting coordinates from paths\n",
    "for path in paths:\n",
    "    for segment in path:\n",
    "        # Extract coordinates from the segment\n",
    "        for point in segment:\n",
    "            x, y = point.real, point.imag\n",
    "            xsA.append(x)\n",
    "            ysA.append(y)"
   ]
  },
  {
   "cell_type": "markdown",
   "metadata": {},
   "source": [
    "### Importing data for each letter and formatting into dictionary"
   ]
  },
  {
   "cell_type": "markdown",
   "metadata": {},
   "source": [
    "Function to extract data from svg file and format into x and y position arrays"
   ]
  },
  {
   "cell_type": "code",
   "execution_count": 24,
   "metadata": {},
   "outputs": [],
   "source": [
    "xs = []\n",
    "ys = []\n",
    "\n",
    "def extract (paths):\n",
    "    for path in paths:\n",
    "        for segment in path:\n",
    "            # Extract coordinates from the segment\n",
    "            for point in segment:\n",
    "                x, y = point.real, point.imag\n",
    "                xs.append(x)\n",
    "                ys.append(y)\n",
    "    return xs,ys"
   ]
  },
  {
   "cell_type": "code",
   "execution_count": 35,
   "metadata": {},
   "outputs": [],
   "source": [
    "\n",
    "\n",
    "for i in range(26):\n",
    "    letter = chr(65+i)\n",
    "    route = 'assets/letters/' + letter + '.svg'\n",
    "    paths,attributes = svg2paths(route)\n",
    "    xs,ys = extract(paths)\n",
    "\n",
    "    if letter == 'A':\n",
    "        A_list_x = xs\n",
    "        A_list_y = ys\n",
    "        A_list = np.vstack((A_list_x,A_list_y))\n",
    "    elif letter == 'B':\n",
    "        B_list_x = xs\n",
    "        B_list_y = ys\n",
    "        B_list = np.vstack((B_list_x,B_list_y))\n",
    "    elif letter == 'C':\n",
    "        C_list_x = xs\n",
    "        C_list_y = ys\n",
    "        C_list = np.vstack((C_list_x,C_list_y))\n",
    "    elif letter == 'D':\n",
    "        D_list_x = xs\n",
    "        D_list_y = ys\n",
    "        D_list = np.vstack((D_list_x,D_list_y))\n",
    "    elif letter == 'E':\n",
    "        E_list_x = xs\n",
    "        E_list_y = ys\n",
    "        E_list = np.vstack((E_list_x,E_list_y))\n",
    "    elif letter == 'F':\n",
    "        F_list_x = xs\n",
    "        F_list_y = ys\n",
    "        F_list = np.vstack((F_list_x,F_list_y))\n",
    "    elif letter == 'G':\n",
    "        G_list_x = xs\n",
    "        G_list_y = ys\n",
    "        G_list = np.vstack((G_list_x,G_list_y))\n",
    "    elif letter == 'H':\n",
    "        H_list_x = xs\n",
    "        H_list_y = ys\n",
    "        H_list = np.vstack((H_list_x,H_list_y))\n",
    "    elif letter == 'I':\n",
    "        I_list_x = xs\n",
    "        I_list_y = ys\n",
    "        I_list = np.vstack((I_list_x,I_list_y))\n",
    "    elif letter == 'J':\n",
    "        J_list_x = xs\n",
    "        J_list_y = ys\n",
    "        J_list = np.vstack((J_list_x,J_list_y))\n",
    "    elif letter == 'K':\n",
    "        K_list_x = xs\n",
    "        K_list_y = ys\n",
    "        K_list = np.vstack((K_list_x,K_list_y))\n",
    "    elif letter == 'L':\n",
    "        L_list_x = xs\n",
    "        L_list_y = ys\n",
    "        L_list = np.vstack((L_list_x,L_list_y))\n",
    "    elif letter == 'M':\n",
    "        M_list_x = xs\n",
    "        M_list_y = ys\n",
    "        M_list = np.vstack((M_list_x,M_list_y))\n",
    "    elif letter == 'N':\n",
    "        N_list_x = xs\n",
    "        N_list_y = ys\n",
    "        N_list = np.vstack((N_list_x,N_list_y))\n",
    "    elif letter == 'O':\n",
    "        O_list_x = xs\n",
    "        O_list_y = ys\n",
    "        O_list = np.vstack((O_list_x,O_list_y))\n",
    "    elif letter == 'P':\n",
    "        P_list_x = xs\n",
    "        P_list_y = ys\n",
    "        P_list = np.vstack((P_list_x,P_list_y))\n",
    "    elif letter == 'Q':\n",
    "        Q_list_x = xs\n",
    "        Q_list_y = ys\n",
    "        Q_list = np.vstack((Q_list_x,Q_list_y))\n",
    "    elif letter == 'R':\n",
    "        R_list_x = xs\n",
    "        R_list_y = ys\n",
    "        R_list = np.vstack((R_list_x,R_list_y))\n",
    "    elif letter == 'S':\n",
    "        S_list_x = xs\n",
    "        S_list_y = ys\n",
    "        S_list = np.vstack((S_list_x,S_list_y))\n",
    "    elif letter == 'T':\n",
    "        T_list_x = xs\n",
    "        T_list_y = ys\n",
    "        T_list = np.vstack((T_list_x,T_list_y))\n",
    "    elif letter == 'U':\n",
    "        U_list_x = xs\n",
    "        U_list_y = ys\n",
    "        U_list = np.vstack((U_list_x,U_list_y))\n",
    "    elif letter == 'V':\n",
    "        V_list_x = xs\n",
    "        V_list_y = ys\n",
    "        V_list = np.vstack((V_list_x,V_list_y))\n",
    "    elif letter == 'W':\n",
    "        W_list_x = xs\n",
    "        W_list_y = ys\n",
    "        W_list = np.vstack((W_list_x,W_list_y))\n",
    "    elif letter == 'Y':\n",
    "        Y_list_x = xs\n",
    "        Y_list_y = ys\n",
    "        Y_list = np.vstack((Y_list_x,Y_list_y))\n",
    "    elif letter == 'X':\n",
    "        X_list_x = xs\n",
    "        X_list_y = ys\n",
    "        X_list = np.vstack((X_list_x,X_list_y))\n",
    "    elif letter == 'Z':\n",
    "        Z_list_x = xs\n",
    "        Z_list_y = ys\n",
    "        Z_list = np.vstack((Z_list_x,Z_list_y))\n",
    "        \n",
    "    xs = []\n",
    "    ys = []\n",
    "    \n",
    "# Creating dictionary\n",
    "dict = {'A': A_list, 'B': B_list, 'C': C_list, 'D': D_list, 'E': E_list, 'F': F_list, 'G': G_list, 'H': H_list,\n",
    "        'I': I_list, 'J': J_list, 'K': K_list, 'L': L_list,'M': M_list, 'N': N_list, 'O': O_list, 'P': P_list,\n",
    "        'Q': Q_list, 'R': R_list, 'S': S_list, 'T': T_list, 'U': U_list, 'V': V_list, 'W': W_list, 'X': X_list,\n",
    "        'Y': Y_list, 'Z': Z_list}\n",
    "\n",
    "\n"
   ]
  },
  {
   "cell_type": "code",
   "execution_count": 47,
   "metadata": {},
   "outputs": [
    {
     "name": "stdout",
     "output_type": "stream",
     "text": [
      "398\n",
      "780\n"
     ]
    }
   ],
   "source": [
    "print(len(dict['A'][0,:]))\n",
    "\n",
    "print(len(dict['R'][0,:]))"
   ]
  },
  {
   "cell_type": "code",
   "execution_count": 42,
   "metadata": {},
   "outputs": [
    {
     "ename": "ValueError",
     "evalue": "operands could not be broadcast together with shapes (398,) (780,) ",
     "output_type": "error",
     "traceback": [
      "\u001b[0;31m---------------------------------------------------------------------------\u001b[0m",
      "\u001b[0;31mValueError\u001b[0m                                Traceback (most recent call last)",
      "Cell \u001b[0;32mIn[42], line 1\u001b[0m\n\u001b[0;32m----> 1\u001b[0m x_waves \u001b[38;5;241m=\u001b[39m \u001b[38;5;28msorted\u001b[39m(generate_wave_info(\u001b[38;5;28mdict\u001b[39m[\u001b[38;5;124m'\u001b[39m\u001b[38;5;124mA\u001b[39m\u001b[38;5;124m'\u001b[39m][\u001b[38;5;241m0\u001b[39m,:] \u001b[38;5;241m+\u001b[39m [x \u001b[38;5;241m+\u001b[39m \u001b[38;5;241m100\u001b[39m \u001b[38;5;28;01mfor\u001b[39;00m x \u001b[38;5;129;01min\u001b[39;00m \u001b[38;5;28mdict\u001b[39m[\u001b[38;5;124m'\u001b[39m\u001b[38;5;124mR\u001b[39m\u001b[38;5;124m'\u001b[39m][\u001b[38;5;241m0\u001b[39m,:]]), key\u001b[38;5;241m=\u001b[39m\u001b[38;5;28;01mlambda\u001b[39;00m x: \u001b[38;5;241m-\u001b[39mx\u001b[38;5;241m.\u001b[39mamplitude)\n\u001b[1;32m      2\u001b[0m y_waves \u001b[38;5;241m=\u001b[39m \u001b[38;5;28msorted\u001b[39m(generate_wave_info(\u001b[38;5;28mdict\u001b[39m[\u001b[38;5;124m'\u001b[39m\u001b[38;5;124mA\u001b[39m\u001b[38;5;124m'\u001b[39m][\u001b[38;5;241m1\u001b[39m,:]  \u001b[38;5;241m+\u001b[39m \u001b[38;5;28mdict\u001b[39m[\u001b[38;5;124m'\u001b[39m\u001b[38;5;124mR\u001b[39m\u001b[38;5;124m'\u001b[39m][\u001b[38;5;241m1\u001b[39m,:]), key\u001b[38;5;241m=\u001b[39m\u001b[38;5;28;01mlambda\u001b[39;00m x: \u001b[38;5;241m-\u001b[39mx\u001b[38;5;241m.\u001b[39mamplitude)\n",
      "\u001b[0;31mValueError\u001b[0m: operands could not be broadcast together with shapes (398,) (780,) "
     ]
    }
   ],
   "source": [
    "x_waves = sorted(generate_wave_info(dict['A'][0,:] + [x + 100 for x in dict['R'][0,:]]), key=lambda x: -x.amplitude)\n",
    "y_waves = sorted(generate_wave_info(dict['A'][1,:]  + dict['R'][1,:]), key=lambda x: -x.amplitude)"
   ]
  },
  {
   "cell_type": "code",
   "execution_count": 10,
   "metadata": {},
   "outputs": [],
   "source": [
    "class Point:\n",
    "  def __init__(self, x, y):\n",
    "    self.x = x\n",
    "    self.y = y\n",
    "  \n",
    "  def __add__(self, other):\n",
    "    return Point(self.x + other.x, self.y + other.y)\n",
    "  \n",
    "  def __sub__(self, other):\n",
    "    return Point(self.x - other.x, self.y - other.y)\n",
    "  \n",
    "  def __iadd__(self, other):\n",
    "    self.x += other.x\n",
    "    self.y += other.y\n",
    "    return self\n",
    "\n",
    "  def __truediv__(self, num):\n",
    "    return Point(self.x / num, self.y / num)\n",
    "  \n",
    "  def __mul__(self, num):\n",
    "    return Point(self.x * num, self.y * num)\n",
    "  \n",
    "  def __repr__(self):\n",
    "    return f\"({self.x}, {self.y})\"\n",
    "  \n",
    "  def as_tuple(self):\n",
    "    return (self.x, self.y)"
   ]
  },
  {
   "cell_type": "code",
   "execution_count": 14,
   "metadata": {},
   "outputs": [
    {
     "ename": "KeyboardInterrupt",
     "evalue": "",
     "output_type": "error",
     "traceback": [
      "\u001b[0;31m---------------------------------------------------------------------------\u001b[0m",
      "\u001b[0;31mKeyboardInterrupt\u001b[0m                         Traceback (most recent call last)",
      "Cell \u001b[0;32mIn[14], line 73\u001b[0m\n\u001b[1;32m     70\u001b[0m     \u001b[38;5;66;03m# flip() the display to put your work on screen\u001b[39;00m\n\u001b[1;32m     71\u001b[0m     pygame\u001b[38;5;241m.\u001b[39mdisplay\u001b[38;5;241m.\u001b[39mflip()\n\u001b[0;32m---> 73\u001b[0m     \u001b[43mclock\u001b[49m\u001b[38;5;241;43m.\u001b[39;49m\u001b[43mtick\u001b[49m\u001b[43m(\u001b[49m\u001b[38;5;241;43m60\u001b[39;49m\u001b[43m)\u001b[49m  \u001b[38;5;66;03m# limits FPS to 60\u001b[39;00m\n\u001b[1;32m     75\u001b[0m pygame\u001b[38;5;241m.\u001b[39mquit()\n",
      "\u001b[0;31mKeyboardInterrupt\u001b[0m: "
     ]
    },
    {
     "ename": "",
     "evalue": "",
     "output_type": "error",
     "traceback": [
      "\u001b[1;31mThe Kernel crashed while executing code in the current cell or a previous cell. \n",
      "\u001b[1;31mPlease review the code in the cell(s) to identify a possible cause of the failure. \n",
      "\u001b[1;31mClick <a href='https://aka.ms/vscodeJupyterKernelCrash'>here</a> for more info. \n",
      "\u001b[1;31mView Jupyter <a href='command:jupyter.viewOutput'>log</a> for further details."
     ]
    }
   ],
   "source": [
    "# pygame setup\n",
    "pygame.init()\n",
    "screensize = Point(1280, 720)\n",
    "screencenter = screensize / 2\n",
    "screen = pygame.display.set_mode(screensize.as_tuple())\n",
    "clock = pygame.time.Clock()\n",
    "running = True\n",
    "time = 0\n",
    "points = []\n",
    "oldPoints = []\n",
    "epsilon = pi / 8\n",
    "\n",
    "while running:\n",
    "    # poll for events\n",
    "    # pygame.QUIT event means the user clicked X to close your window\n",
    "    for event in pygame.event.get():\n",
    "        if event.type == pygame.QUIT:\n",
    "            running = False\n",
    "    # fill the screen with a color to wipe away anything from last frame\n",
    "    screen.fill(\"black\")\n",
    "\n",
    "    currPointX = Point(screencenter.x, 100)\n",
    "    for wave in x_waves:\n",
    "        prevPoint = currPointX\n",
    "\n",
    "        freq = wave.frequency\n",
    "        radius = wave.amplitude\n",
    "        phase = wave.phase\n",
    "\n",
    "        offsetPoint = Point(cos(freq * time + phase), sin(freq * time + phase)) * radius\n",
    "        currPointX = prevPoint + offsetPoint\n",
    "        draw.line(screen, 'white', prevPoint.as_tuple(), currPointX.as_tuple(), 2)\n",
    "        radiusPoint = Point(radius, radius)\n",
    "        topLeft = prevPoint - radiusPoint\n",
    "        draw.circle(screen, (100, 100, 100), prevPoint.as_tuple(), radius, width = 2)\n",
    "    \n",
    "    currPointY = Point(100, screencenter.y)\n",
    "    for wave in y_waves:\n",
    "        prevPoint = currPointY\n",
    "\n",
    "        freq = wave.frequency\n",
    "        radius = wave.amplitude\n",
    "        phase = wave.phase\n",
    "\n",
    "        offsetPoint = Point(cos(freq * time + phase + (pi / 2)), sin(freq * time + phase + (pi / 2))) * radius\n",
    "        currPointY = prevPoint + offsetPoint\n",
    "        draw.line(screen, 'white', prevPoint.as_tuple(), currPointY.as_tuple(), 2)\n",
    "        radiusPoint = Point(radius, radius)\n",
    "        topLeft = prevPoint - radiusPoint\n",
    "        draw.circle(screen, (100, 100, 100), prevPoint.as_tuple(), radius, width = 2)\n",
    "\n",
    "    time += 2 * pi / len(x_waves)\n",
    "        \n",
    "    finalPoint = (currPointX.x, currPointY.y)\n",
    "    draw.line(screen, 'red', currPointX.as_tuple(), finalPoint)\n",
    "    draw.line(screen, 'red', currPointY.as_tuple(), finalPoint)\n",
    "    \n",
    "    points.append((currPointX.x, currPointY.y))\n",
    "    if (time >= 2 * pi - epsilon):\n",
    "        oldPoints.append(points[0])\n",
    "        points = points[1:]\n",
    "    if len(oldPoints) >= 250:\n",
    "        oldPoints = oldPoints[1:]\n",
    "\n",
    "    if len(oldPoints) > 1:\n",
    "        draw.lines(screen, (100, 100, 100), False, oldPoints)\n",
    "    if len(points) > 1:\n",
    "        draw.lines(screen, 'white', False, points)\n",
    "    \n",
    "    # flip() the display to put your work on screen\n",
    "    pygame.display.flip()\n",
    "\n",
    "    clock.tick(60)  # limits FPS to 60\n",
    "\n",
    "pygame.quit()"
   ]
  },
  {
   "cell_type": "code",
   "execution_count": null,
   "metadata": {},
   "outputs": [],
   "source": []
  }
 ],
 "metadata": {
  "kernelspec": {
   "display_name": "Python 3",
   "language": "python",
   "name": "python3"
  },
  "language_info": {
   "codemirror_mode": {
    "name": "ipython",
    "version": 3
   },
   "file_extension": ".py",
   "mimetype": "text/x-python",
   "name": "python",
   "nbconvert_exporter": "python",
   "pygments_lexer": "ipython3",
   "version": "3.11.5"
  }
 },
 "nbformat": 4,
 "nbformat_minor": 2
}

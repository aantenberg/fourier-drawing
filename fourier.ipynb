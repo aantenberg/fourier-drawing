{
 "cells": [
  {
   "cell_type": "code",
   "execution_count": 1,
   "metadata": {
    "vscode": {
     "languageId": "powershell"
    }
   },
   "outputs": [
    {
     "name": "stdout",
     "output_type": "stream",
     "text": [
      "Requirement already satisfied: pygame in /Users/andrewantenberg/anaconda3/lib/python3.11/site-packages (2.5.2)\n",
      "Requirement already satisfied: svgpathtools in /Users/andrewantenberg/anaconda3/lib/python3.11/site-packages (1.6.1)\n",
      "Requirement already satisfied: numpy in /Users/andrewantenberg/anaconda3/lib/python3.11/site-packages (from svgpathtools) (1.24.3)\n",
      "Requirement already satisfied: svgwrite in /Users/andrewantenberg/anaconda3/lib/python3.11/site-packages (from svgpathtools) (1.4.3)\n",
      "Requirement already satisfied: scipy in /Users/andrewantenberg/anaconda3/lib/python3.11/site-packages (from svgpathtools) (1.11.1)\n"
     ]
    }
   ],
   "source": [
    "!pip install pygame\n",
    "!pip install svgpathtools"
   ]
  },
  {
   "cell_type": "code",
   "execution_count": 2,
   "metadata": {},
   "outputs": [
    {
     "name": "stdout",
     "output_type": "stream",
     "text": [
      "pygame 2.5.2 (SDL 2.28.3, Python 3.10.1)\n",
      "Hello from the pygame community. https://www.pygame.org/contribute.html\n"
     ]
    }
   ],
   "source": [
    "import pygame\n",
    "from svgpathtools import svg2paths\n",
    "from numpy import cos, sin, pi, sqrt, arctan2\n",
    "import pygame.draw as draw"
   ]
  },
  {
   "cell_type": "code",
   "execution_count": 3,
   "metadata": {},
   "outputs": [],
   "source": [
    "def fourier_term(signals, k):\n",
    "  N = len(signals)\n",
    "  X_k = complex()\n",
    "  for n in range(N):\n",
    "    theta = 2 * pi * k * n / N\n",
    "    X_k += complex(cos(theta), -sin(theta)) * signals[n]\n",
    "  return X_k / N\n",
    "\n",
    "def fourier_transform(signals):  \n",
    "  return [fourier_term(signals, k) for k in range(len(signals))]"
   ]
  },
  {
   "cell_type": "code",
   "execution_count": 4,
   "metadata": {},
   "outputs": [],
   "source": [
    "class Wave:\n",
    "  def __init__(self, frequency, amplitude, phase):\n",
    "    self.frequency = frequency\n",
    "    self.amplitude = amplitude\n",
    "    self.phase = phase\n",
    "  def __repr__(self):\n",
    "    return f\"Wave(freq={self.frequency}, amp={self.amplitude}, phase={self.phase})\"\n",
    "\n",
    "  @staticmethod\n",
    "  def from_fourier_term(k, cmplx_num):\n",
    "    r = cmplx_num.real\n",
    "    i = cmplx_num.imag\n",
    "    return Wave(k, sqrt(r * r + i * i), arctan2(i, r))\n",
    "\n",
    "def generate_wave_info(signals):\n",
    "  fourier_terms = fourier_transform(signals)\n",
    "  return [Wave.from_fourier_term(k, term) for k, term in enumerate(fourier_terms)]"
   ]
  },
  {
   "cell_type": "code",
   "execution_count": 5,
   "metadata": {},
   "outputs": [],
   "source": [
    "def read_file(filename):\n",
    "  file = open(filename, \"r\")\n",
    "  return [[float(num) for num in line.split(\", \")] for line in file]"
   ]
  },
  {
   "cell_type": "code",
   "execution_count": 6,
   "metadata": {},
   "outputs": [],
   "source": [
    "drawing = read_file('assets/capitalE.txt')\n",
    "xs = [point[0] * 2 for point in drawing]\n",
    "ys = [point[1] * 2 for point in drawing]"
   ]
  },
  {
   "cell_type": "code",
   "execution_count": 11,
   "metadata": {},
   "outputs": [],
   "source": [
    "# Load SVG file\n",
    "paths, attributes = svg2paths('assets/R.svg')\n",
    "xsR = []\n",
    "ysR = []\n",
    "\n",
    "# Extracting coordinates from paths\n",
    "for path in paths:\n",
    "    for segment in path:\n",
    "        # Extract coordinates from the segment\n",
    "        for point in segment:\n",
    "            x, y = point.real, point.imag\n",
    "            xsR.append(x)\n",
    "            ysR.append(y)"
   ]
  },
  {
   "cell_type": "code",
   "execution_count": 12,
   "metadata": {},
   "outputs": [],
   "source": [
    "paths, attributes = svg2paths('assets/A.svg')\n",
    "xsA = []\n",
    "ysA = []\n",
    "\n",
    "# Extracting coordinates from paths\n",
    "for path in paths:\n",
    "    for segment in path:\n",
    "        # Extract coordinates from the segment\n",
    "        for point in segment:\n",
    "            x, y = point.real, point.imag\n",
    "            xsA.append(x)\n",
    "            ysA.append(y)"
   ]
  },
  {
   "cell_type": "code",
   "execution_count": 13,
   "metadata": {},
   "outputs": [],
   "source": [
    "x_waves = sorted(generate_wave_info(xsA + [x + 100 for x in xsR]), key=lambda x: -x.amplitude)\n",
    "y_waves = sorted(generate_wave_info(ysA + ysR), key=lambda x: -x.amplitude)"
   ]
  },
  {
   "cell_type": "code",
   "execution_count": 9,
   "metadata": {},
   "outputs": [],
   "source": [
    "class Point:\n",
    "  def __init__(self, x, y):\n",
    "    self.x = x\n",
    "    self.y = y\n",
    "  \n",
    "  def __add__(self, other):\n",
    "    return Point(self.x + other.x, self.y + other.y)\n",
    "  \n",
    "  def __sub__(self, other):\n",
    "    return Point(self.x - other.x, self.y - other.y)\n",
    "  \n",
    "  def __iadd__(self, other):\n",
    "    self.x += other.x\n",
    "    self.y += other.y\n",
    "    return self\n",
    "\n",
    "  def __truediv__(self, num):\n",
    "    return Point(self.x / num, self.y / num)\n",
    "  \n",
    "  def __mul__(self, num):\n",
    "    return Point(self.x * num, self.y * num)\n",
    "  \n",
    "  def __repr__(self):\n",
    "    return f\"({self.x}, {self.y})\"\n",
    "  \n",
    "  def as_tuple(self):\n",
    "    return (self.x, self.y)"
   ]
  },
  {
   "cell_type": "code",
   "execution_count": 14,
   "metadata": {},
   "outputs": [
    {
     "ename": "KeyboardInterrupt",
     "evalue": "",
     "output_type": "error",
     "traceback": [
      "\u001b[0;31m---------------------------------------------------------------------------\u001b[0m",
      "\u001b[0;31mKeyboardInterrupt\u001b[0m                         Traceback (most recent call last)",
      "Cell \u001b[0;32mIn[14], line 73\u001b[0m\n\u001b[1;32m     70\u001b[0m     \u001b[38;5;66;03m# flip() the display to put your work on screen\u001b[39;00m\n\u001b[1;32m     71\u001b[0m     pygame\u001b[38;5;241m.\u001b[39mdisplay\u001b[38;5;241m.\u001b[39mflip()\n\u001b[0;32m---> 73\u001b[0m     \u001b[43mclock\u001b[49m\u001b[38;5;241;43m.\u001b[39;49m\u001b[43mtick\u001b[49m\u001b[43m(\u001b[49m\u001b[38;5;241;43m60\u001b[39;49m\u001b[43m)\u001b[49m  \u001b[38;5;66;03m# limits FPS to 60\u001b[39;00m\n\u001b[1;32m     75\u001b[0m pygame\u001b[38;5;241m.\u001b[39mquit()\n",
      "\u001b[0;31mKeyboardInterrupt\u001b[0m: "
     ]
    },
    {
     "ename": "",
     "evalue": "",
     "output_type": "error",
     "traceback": [
      "\u001b[1;31mThe Kernel crashed while executing code in the current cell or a previous cell. \n",
      "\u001b[1;31mPlease review the code in the cell(s) to identify a possible cause of the failure. \n",
      "\u001b[1;31mClick <a href='https://aka.ms/vscodeJupyterKernelCrash'>here</a> for more info. \n",
      "\u001b[1;31mView Jupyter <a href='command:jupyter.viewOutput'>log</a> for further details."
     ]
    }
   ],
   "source": [
    "# pygame setup\n",
    "pygame.init()\n",
    "screensize = Point(1280, 720)\n",
    "screencenter = screensize / 2\n",
    "screen = pygame.display.set_mode(screensize.as_tuple())\n",
    "clock = pygame.time.Clock()\n",
    "running = True\n",
    "time = 0\n",
    "points = []\n",
    "oldPoints = []\n",
    "epsilon = pi / 8\n",
    "\n",
    "while running:\n",
    "    # poll for events\n",
    "    # pygame.QUIT event means the user clicked X to close your window\n",
    "    for event in pygame.event.get():\n",
    "        if event.type == pygame.QUIT:\n",
    "            running = False\n",
    "    # fill the screen with a color to wipe away anything from last frame\n",
    "    screen.fill(\"black\")\n",
    "\n",
    "    currPointX = Point(screencenter.x, 100)\n",
    "    for wave in x_waves:\n",
    "        prevPoint = currPointX\n",
    "\n",
    "        freq = wave.frequency\n",
    "        radius = wave.amplitude\n",
    "        phase = wave.phase\n",
    "\n",
    "        offsetPoint = Point(cos(freq * time + phase), sin(freq * time + phase)) * radius\n",
    "        currPointX = prevPoint + offsetPoint\n",
    "        draw.line(screen, 'white', prevPoint.as_tuple(), currPointX.as_tuple(), 2)\n",
    "        radiusPoint = Point(radius, radius)\n",
    "        topLeft = prevPoint - radiusPoint\n",
    "        draw.circle(screen, (100, 100, 100), prevPoint.as_tuple(), radius, width = 2)\n",
    "    \n",
    "    currPointY = Point(100, screencenter.y)\n",
    "    for wave in y_waves:\n",
    "        prevPoint = currPointY\n",
    "\n",
    "        freq = wave.frequency\n",
    "        radius = wave.amplitude\n",
    "        phase = wave.phase\n",
    "\n",
    "        offsetPoint = Point(cos(freq * time + phase + (pi / 2)), sin(freq * time + phase + (pi / 2))) * radius\n",
    "        currPointY = prevPoint + offsetPoint\n",
    "        draw.line(screen, 'white', prevPoint.as_tuple(), currPointY.as_tuple(), 2)\n",
    "        radiusPoint = Point(radius, radius)\n",
    "        topLeft = prevPoint - radiusPoint\n",
    "        draw.circle(screen, (100, 100, 100), prevPoint.as_tuple(), radius, width = 2)\n",
    "\n",
    "    time += 2 * pi / len(x_waves)\n",
    "        \n",
    "    finalPoint = (currPointX.x, currPointY.y)\n",
    "    draw.line(screen, 'red', currPointX.as_tuple(), finalPoint)\n",
    "    draw.line(screen, 'red', currPointY.as_tuple(), finalPoint)\n",
    "    \n",
    "    points.append((currPointX.x, currPointY.y))\n",
    "    if (time >= 2 * pi - epsilon):\n",
    "        oldPoints.append(points[0])\n",
    "        points = points[1:]\n",
    "    if len(oldPoints) >= 250:\n",
    "        oldPoints = oldPoints[1:]\n",
    "\n",
    "    if len(oldPoints) > 1:\n",
    "        draw.lines(screen, (100, 100, 100), False, oldPoints)\n",
    "    if len(points) > 1:\n",
    "        draw.lines(screen, 'white', False, points)\n",
    "    \n",
    "    # flip() the display to put your work on screen\n",
    "    pygame.display.flip()\n",
    "\n",
    "    clock.tick(60)  # limits FPS to 60\n",
    "\n",
    "pygame.quit()"
   ]
  },
  {
   "cell_type": "code",
   "execution_count": null,
   "metadata": {},
   "outputs": [],
   "source": []
  }
 ],
 "metadata": {
  "kernelspec": {
   "display_name": "Python 3",
   "language": "python",
   "name": "python3"
  },
  "language_info": {
   "codemirror_mode": {
    "name": "ipython",
    "version": 3
   },
   "file_extension": ".py",
   "mimetype": "text/x-python",
   "name": "python",
   "nbconvert_exporter": "python",
   "pygments_lexer": "ipython3",
   "version": "3.10.1"
  }
 },
 "nbformat": 4,
 "nbformat_minor": 2
}
